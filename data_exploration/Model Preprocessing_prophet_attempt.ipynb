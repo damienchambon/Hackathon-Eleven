{
 "cells": [
  {
   "cell_type": "code",
   "execution_count": 225,
   "metadata": {
    "scrolled": false
   },
   "outputs": [
    {
     "name": "stderr",
     "output_type": "stream",
     "text": [
      "C:\\ProgramData\\Anaconda3\\lib\\site-packages\\IPython\\core\\interactiveshell.py:3338: DtypeWarning:\n",
      "\n",
      "Columns (1,2) have mixed types.Specify dtype option on import or set low_memory=False.\n",
      "\n"
     ]
    }
   ],
   "source": [
    "import os\n",
    "import site\n",
    "from pathlib import Path\n",
    "import importlib  \n",
    "\n",
    "import pandas as pd\n",
    "import numpy as np\n",
    "import matplotlib.pyplot as plt\n",
    "import seaborn as sns\n",
    "\n",
    "path = Path(os.getcwd())\n",
    "site.addsitedir(path.parent)  \n",
    "\n",
    "dataset_cleaning = importlib.import_module(\"utils.dataset_cleaning\")\n",
    "\n",
    "# the datasets that are returned are cleaned\n",
    "df_aircraft = dataset_cleaning.clean_aircraft(\n",
    "    '../../Resources/ACchar.xlsx', \n",
    "    )\n",
    "\n",
    "df_airport = dataset_cleaning.clean_airport(\n",
    "    '../../Resources/training_set_airport_data.csv', 'train'\n",
    "    )\n",
    "\n",
    "df_geography = dataset_cleaning.clean_geography(\n",
    "    '../../Resources/geographic_data.csv', \n",
    "    )\n",
    "\n",
    "df_weather = dataset_cleaning.clean_weather(\n",
    "    '../../Resources/Weather_data.csv', 'train'\n",
    "    )\n",
    "\n",
    "dataset_joining = importlib.import_module(\"utils.dataset_joining\")\n",
    "\n",
    "# joining cleaned datasets and combining them\n",
    "# you do not have to list all datasets if you only want to join some of them\n",
    "# but df_airport is the only one mandatory\n",
    "merged_df = dataset_joining.join_datasets(df_airport, df_weather=df_weather,df_geography=df_geography, df_aircraft=df_aircraft)\n",
    "merged_bkp = merged_df.copy()"
   ]
  },
  {
   "cell_type": "markdown",
   "metadata": {},
   "source": [
    "### Adding distance between stand and runway"
   ]
  },
  {
   "cell_type": "code",
   "execution_count": 226,
   "metadata": {},
   "outputs": [],
   "source": [
    "pairs = pd.read_csv('../../Resources/new_pairs.csv')\n",
    "pairs.columns = ['index','stand','runway','distance']\n",
    "merged_df = pd.merge(merged_df, pairs,  how='left', left_on=['stand','runway'], right_on = ['stand','runway'])"
   ]
  },
  {
   "cell_type": "markdown",
   "metadata": {},
   "source": [
    "### Adding target variable"
   ]
  },
  {
   "cell_type": "code",
   "execution_count": 227,
   "metadata": {},
   "outputs": [],
   "source": [
    "merged_df.iloc[:,2] = pd.to_datetime(merged_df.iloc[:,2], errors = 'coerce')\n",
    "merged_df.iloc[:,3] = pd.to_datetime(merged_df.iloc[:,3], errors = 'coerce')\n",
    "\n",
    "variable = abs(merged_df.iloc[:,3] - merged_df.iloc[:,2])\n",
    "merged_df['taxi_out']=variable.astype('int64')/(6*10**10)"
   ]
  },
  {
   "cell_type": "code",
   "execution_count": 228,
   "metadata": {},
   "outputs": [
    {
     "data": {
      "text/html": [
       "<div>\n",
       "<style scoped>\n",
       "    .dataframe tbody tr th:only-of-type {\n",
       "        vertical-align: middle;\n",
       "    }\n",
       "\n",
       "    .dataframe tbody tr th {\n",
       "        vertical-align: top;\n",
       "    }\n",
       "\n",
       "    .dataframe thead th {\n",
       "        text-align: right;\n",
       "    }\n",
       "</style>\n",
       "<table border=\"1\" class=\"dataframe\">\n",
       "  <thead>\n",
       "    <tr style=\"text-align: right;\">\n",
       "      <th></th>\n",
       "      <th>Flight Datetime</th>\n",
       "      <th>ATOT</th>\n",
       "      <th>N</th>\n",
       "      <th>Q</th>\n",
       "      <th>N_rw</th>\n",
       "      <th>Q_rw</th>\n",
       "    </tr>\n",
       "  </thead>\n",
       "  <tbody>\n",
       "    <tr>\n",
       "      <th>0</th>\n",
       "      <td>2015-01-01 06:00:00</td>\n",
       "      <td>2015-01-01 06:05:00</td>\n",
       "      <td>0</td>\n",
       "      <td>0</td>\n",
       "      <td>0</td>\n",
       "      <td>0</td>\n",
       "    </tr>\n",
       "    <tr>\n",
       "      <th>1</th>\n",
       "      <td>2015-01-01 06:10:00</td>\n",
       "      <td>2015-01-01 06:18:00</td>\n",
       "      <td>0</td>\n",
       "      <td>0</td>\n",
       "      <td>0</td>\n",
       "      <td>0</td>\n",
       "    </tr>\n",
       "    <tr>\n",
       "      <th>2</th>\n",
       "      <td>2015-01-01 06:15:00</td>\n",
       "      <td>2015-01-01 06:19:00</td>\n",
       "      <td>0</td>\n",
       "      <td>0</td>\n",
       "      <td>0</td>\n",
       "      <td>0</td>\n",
       "    </tr>\n",
       "    <tr>\n",
       "      <th>3</th>\n",
       "      <td>2015-01-01 06:20:00</td>\n",
       "      <td>2015-01-01 06:36:00</td>\n",
       "      <td>3</td>\n",
       "      <td>3</td>\n",
       "      <td>0</td>\n",
       "      <td>0</td>\n",
       "    </tr>\n",
       "    <tr>\n",
       "      <th>4</th>\n",
       "      <td>2015-01-01 06:20:00</td>\n",
       "      <td>2015-01-01 06:27:00</td>\n",
       "      <td>2</td>\n",
       "      <td>2</td>\n",
       "      <td>1</td>\n",
       "      <td>1</td>\n",
       "    </tr>\n",
       "  </tbody>\n",
       "</table>\n",
       "</div>"
      ],
      "text/plain": [
       "      Flight Datetime                ATOT  N  Q  N_rw  Q_rw\n",
       "0 2015-01-01 06:00:00 2015-01-01 06:05:00  0  0     0     0\n",
       "1 2015-01-01 06:10:00 2015-01-01 06:18:00  0  0     0     0\n",
       "2 2015-01-01 06:15:00 2015-01-01 06:19:00  0  0     0     0\n",
       "3 2015-01-01 06:20:00 2015-01-01 06:36:00  3  3     0     0\n",
       "4 2015-01-01 06:20:00 2015-01-01 06:27:00  2  2     1     1"
      ]
     },
     "metadata": {},
     "output_type": "display_data"
    },
    {
     "data": {
      "text/html": [
       "<div>\n",
       "<style scoped>\n",
       "    .dataframe tbody tr th:only-of-type {\n",
       "        vertical-align: middle;\n",
       "    }\n",
       "\n",
       "    .dataframe tbody tr th {\n",
       "        vertical-align: top;\n",
       "    }\n",
       "\n",
       "    .dataframe thead th {\n",
       "        text-align: right;\n",
       "    }\n",
       "</style>\n",
       "<table border=\"1\" class=\"dataframe\">\n",
       "  <thead>\n",
       "    <tr style=\"text-align: right;\">\n",
       "      <th></th>\n",
       "      <th>flight_datetime</th>\n",
       "      <th>ATOT</th>\n",
       "      <th>N</th>\n",
       "      <th>Q</th>\n",
       "      <th>N_rw</th>\n",
       "      <th>Q_rw</th>\n",
       "    </tr>\n",
       "  </thead>\n",
       "  <tbody>\n",
       "    <tr>\n",
       "      <th>0</th>\n",
       "      <td>2015-01-01 06:00:00</td>\n",
       "      <td>2015-01-01 06:05:00</td>\n",
       "      <td>0</td>\n",
       "      <td>0</td>\n",
       "      <td>0</td>\n",
       "      <td>0</td>\n",
       "    </tr>\n",
       "    <tr>\n",
       "      <th>1</th>\n",
       "      <td>2015-01-01 06:10:00</td>\n",
       "      <td>2015-01-01 06:18:00</td>\n",
       "      <td>0</td>\n",
       "      <td>0</td>\n",
       "      <td>0</td>\n",
       "      <td>0</td>\n",
       "    </tr>\n",
       "    <tr>\n",
       "      <th>2</th>\n",
       "      <td>2015-01-01 06:15:00</td>\n",
       "      <td>2015-01-01 06:19:00</td>\n",
       "      <td>0</td>\n",
       "      <td>0</td>\n",
       "      <td>0</td>\n",
       "      <td>0</td>\n",
       "    </tr>\n",
       "    <tr>\n",
       "      <th>3</th>\n",
       "      <td>2015-01-01 06:20:00</td>\n",
       "      <td>2015-01-01 06:36:00</td>\n",
       "      <td>3</td>\n",
       "      <td>3</td>\n",
       "      <td>0</td>\n",
       "      <td>0</td>\n",
       "    </tr>\n",
       "    <tr>\n",
       "      <th>4</th>\n",
       "      <td>2015-01-01 06:20:00</td>\n",
       "      <td>2015-01-01 06:27:00</td>\n",
       "      <td>2</td>\n",
       "      <td>2</td>\n",
       "      <td>1</td>\n",
       "      <td>1</td>\n",
       "    </tr>\n",
       "  </tbody>\n",
       "</table>\n",
       "</div>"
      ],
      "text/plain": [
       "      flight_datetime                ATOT  N  Q  N_rw  Q_rw\n",
       "0 2015-01-01 06:00:00 2015-01-01 06:05:00  0  0     0     0\n",
       "1 2015-01-01 06:10:00 2015-01-01 06:18:00  0  0     0     0\n",
       "2 2015-01-01 06:15:00 2015-01-01 06:19:00  0  0     0     0\n",
       "3 2015-01-01 06:20:00 2015-01-01 06:36:00  3  3     0     0\n",
       "4 2015-01-01 06:20:00 2015-01-01 06:27:00  2  2     1     1"
      ]
     },
     "metadata": {},
     "output_type": "display_data"
    },
    {
     "data": {
      "text/html": [
       "<div>\n",
       "<style scoped>\n",
       "    .dataframe tbody tr th:only-of-type {\n",
       "        vertical-align: middle;\n",
       "    }\n",
       "\n",
       "    .dataframe tbody tr th {\n",
       "        vertical-align: top;\n",
       "    }\n",
       "\n",
       "    .dataframe thead th {\n",
       "        text-align: right;\n",
       "    }\n",
       "</style>\n",
       "<table border=\"1\" class=\"dataframe\">\n",
       "  <thead>\n",
       "    <tr style=\"text-align: right;\">\n",
       "      <th></th>\n",
       "      <th>flight_datetime</th>\n",
       "      <th>aircraft_model</th>\n",
       "      <th>AOBT</th>\n",
       "      <th>ATOT</th>\n",
       "      <th>stand</th>\n",
       "      <th>runway</th>\n",
       "      <th>time_hourly</th>\n",
       "      <th>summary</th>\n",
       "      <th>temperature</th>\n",
       "      <th>dewPoint</th>\n",
       "      <th>...</th>\n",
       "      <th>wheelbase_feet</th>\n",
       "      <th>cockpit_to_main_gear_feet</th>\n",
       "      <th>main_gear_width</th>\n",
       "      <th>max_takeoff_weight</th>\n",
       "      <th>max_ramp_taxi_weight</th>\n",
       "      <th>parking_area_square_feet</th>\n",
       "      <th>number_gear_types_tandem</th>\n",
       "      <th>index</th>\n",
       "      <th>distance</th>\n",
       "      <th>taxi_out</th>\n",
       "    </tr>\n",
       "  </thead>\n",
       "  <tbody>\n",
       "    <tr>\n",
       "      <th>0</th>\n",
       "      <td>2015-01-01 06:00:00</td>\n",
       "      <td>B737-800 WINGLETS</td>\n",
       "      <td>2015-01-01 05:56:00</td>\n",
       "      <td>2015-01-01 06:05:00</td>\n",
       "      <td>STAND_62</td>\n",
       "      <td>RUNWAY_4</td>\n",
       "      <td>2015-01-01 06:00:00</td>\n",
       "      <td>Cloudy</td>\n",
       "      <td>44.65</td>\n",
       "      <td>42.8</td>\n",
       "      <td>...</td>\n",
       "      <td>51.1667</td>\n",
       "      <td>56.4167</td>\n",
       "      <td>22.9583</td>\n",
       "      <td>174200</td>\n",
       "      <td>174900</td>\n",
       "      <td>15205.5</td>\n",
       "      <td>1</td>\n",
       "      <td>560.0</td>\n",
       "      <td>1150.0</td>\n",
       "      <td>9.0</td>\n",
       "    </tr>\n",
       "    <tr>\n",
       "      <th>1</th>\n",
       "      <td>2015-01-01 06:10:00</td>\n",
       "      <td>A320-100/200</td>\n",
       "      <td>2015-01-01 06:08:00</td>\n",
       "      <td>2015-01-01 06:18:00</td>\n",
       "      <td>STAND_153</td>\n",
       "      <td>RUNWAY_4</td>\n",
       "      <td>2015-01-01 06:00:00</td>\n",
       "      <td>Cloudy</td>\n",
       "      <td>44.65</td>\n",
       "      <td>42.8</td>\n",
       "      <td>...</td>\n",
       "      <td>41.47</td>\n",
       "      <td>50.2</td>\n",
       "      <td>29.36</td>\n",
       "      <td>171961</td>\n",
       "      <td>172842</td>\n",
       "      <td>13791.4</td>\n",
       "      <td>1</td>\n",
       "      <td>651.0</td>\n",
       "      <td>1175.0</td>\n",
       "      <td>10.0</td>\n",
       "    </tr>\n",
       "    <tr>\n",
       "      <th>2</th>\n",
       "      <td>2015-01-01 06:15:00</td>\n",
       "      <td>A320-100/200</td>\n",
       "      <td>2015-01-01 06:08:00</td>\n",
       "      <td>2015-01-01 06:19:00</td>\n",
       "      <td>STAND_44</td>\n",
       "      <td>RUNWAY_2</td>\n",
       "      <td>2015-01-01 06:00:00</td>\n",
       "      <td>Cloudy</td>\n",
       "      <td>44.65</td>\n",
       "      <td>42.8</td>\n",
       "      <td>...</td>\n",
       "      <td>41.47</td>\n",
       "      <td>50.2</td>\n",
       "      <td>29.36</td>\n",
       "      <td>171961</td>\n",
       "      <td>172842</td>\n",
       "      <td>13791.4</td>\n",
       "      <td>1</td>\n",
       "      <td>210.0</td>\n",
       "      <td>3150.0</td>\n",
       "      <td>11.0</td>\n",
       "    </tr>\n",
       "    <tr>\n",
       "      <th>3</th>\n",
       "      <td>2015-01-01 06:20:00</td>\n",
       "      <td>A320-100/200</td>\n",
       "      <td>2015-01-01 06:24:00</td>\n",
       "      <td>2015-01-01 06:36:00</td>\n",
       "      <td>STAND_7</td>\n",
       "      <td>RUNWAY_3</td>\n",
       "      <td>2015-01-01 06:00:00</td>\n",
       "      <td>Cloudy</td>\n",
       "      <td>44.65</td>\n",
       "      <td>42.8</td>\n",
       "      <td>...</td>\n",
       "      <td>41.47</td>\n",
       "      <td>50.2</td>\n",
       "      <td>29.36</td>\n",
       "      <td>171961</td>\n",
       "      <td>172842</td>\n",
       "      <td>13791.4</td>\n",
       "      <td>1</td>\n",
       "      <td>339.0</td>\n",
       "      <td>3100.0</td>\n",
       "      <td>12.0</td>\n",
       "    </tr>\n",
       "    <tr>\n",
       "      <th>4</th>\n",
       "      <td>2015-01-01 06:20:00</td>\n",
       "      <td>A319</td>\n",
       "      <td>2015-01-01 06:14:00</td>\n",
       "      <td>2015-01-01 06:27:00</td>\n",
       "      <td>STAND_17</td>\n",
       "      <td>RUNWAY_2</td>\n",
       "      <td>2015-01-01 06:00:00</td>\n",
       "      <td>Cloudy</td>\n",
       "      <td>44.65</td>\n",
       "      <td>42.8</td>\n",
       "      <td>...</td>\n",
       "      <td>36.23</td>\n",
       "      <td>44.9</td>\n",
       "      <td>29.36</td>\n",
       "      <td>168653</td>\n",
       "      <td>169535</td>\n",
       "      <td>12420.9</td>\n",
       "      <td>1</td>\n",
       "      <td>183.0</td>\n",
       "      <td>2800.0</td>\n",
       "      <td>13.0</td>\n",
       "    </tr>\n",
       "  </tbody>\n",
       "</table>\n",
       "<p>5 rows × 40 columns</p>\n",
       "</div>"
      ],
      "text/plain": [
       "      flight_datetime     aircraft_model                AOBT  \\\n",
       "0 2015-01-01 06:00:00  B737-800 WINGLETS 2015-01-01 05:56:00   \n",
       "1 2015-01-01 06:10:00       A320-100/200 2015-01-01 06:08:00   \n",
       "2 2015-01-01 06:15:00       A320-100/200 2015-01-01 06:08:00   \n",
       "3 2015-01-01 06:20:00       A320-100/200 2015-01-01 06:24:00   \n",
       "4 2015-01-01 06:20:00               A319 2015-01-01 06:14:00   \n",
       "\n",
       "                 ATOT      stand    runway         time_hourly summary  \\\n",
       "0 2015-01-01 06:05:00   STAND_62  RUNWAY_4 2015-01-01 06:00:00  Cloudy   \n",
       "1 2015-01-01 06:18:00  STAND_153  RUNWAY_4 2015-01-01 06:00:00  Cloudy   \n",
       "2 2015-01-01 06:19:00   STAND_44  RUNWAY_2 2015-01-01 06:00:00  Cloudy   \n",
       "3 2015-01-01 06:36:00    STAND_7  RUNWAY_3 2015-01-01 06:00:00  Cloudy   \n",
       "4 2015-01-01 06:27:00   STAND_17  RUNWAY_2 2015-01-01 06:00:00  Cloudy   \n",
       "\n",
       "   temperature  dewPoint  ...  wheelbase_feet  cockpit_to_main_gear_feet  \\\n",
       "0        44.65      42.8  ...         51.1667                    56.4167   \n",
       "1        44.65      42.8  ...           41.47                       50.2   \n",
       "2        44.65      42.8  ...           41.47                       50.2   \n",
       "3        44.65      42.8  ...           41.47                       50.2   \n",
       "4        44.65      42.8  ...           36.23                       44.9   \n",
       "\n",
       "   main_gear_width  max_takeoff_weight  max_ramp_taxi_weight  \\\n",
       "0          22.9583              174200                174900   \n",
       "1            29.36              171961                172842   \n",
       "2            29.36              171961                172842   \n",
       "3            29.36              171961                172842   \n",
       "4            29.36              168653                169535   \n",
       "\n",
       "   parking_area_square_feet  number_gear_types_tandem  index  distance  \\\n",
       "0                   15205.5                         1  560.0    1150.0   \n",
       "1                   13791.4                         1  651.0    1175.0   \n",
       "2                   13791.4                         1  210.0    3150.0   \n",
       "3                   13791.4                         1  339.0    3100.0   \n",
       "4                   12420.9                         1  183.0    2800.0   \n",
       "\n",
       "   taxi_out  \n",
       "0       9.0  \n",
       "1      10.0  \n",
       "2      11.0  \n",
       "3      12.0  \n",
       "4      13.0  \n",
       "\n",
       "[5 rows x 40 columns]"
      ]
     },
     "metadata": {},
     "output_type": "display_data"
    }
   ],
   "source": [
    "N_Q_df = pd.read_pickle('./df_apt_time.pkl')\n",
    "display(N_Q_df.head())\n",
    "N_Q_df.columns = ['flight_datetime', 'ATOT', 'N', 'Q', 'N_rw', 'Q_rw']\n",
    "display(N_Q_df.head())\n",
    "display(merged_df.head())\n",
    "merged_df = merged_df.merge(N_Q_df)"
   ]
  },
  {
   "cell_type": "code",
   "execution_count": 229,
   "metadata": {},
   "outputs": [
    {
     "data": {
      "image/png": "[encoded data removed]",
      "text/plain": [
       "<Figure size 432x288 with 2 Axes>"
      ]
     },
     "metadata": {
      "needs_background": "light"
     },
     "output_type": "display_data"
    }
   ],
   "source": [
    "fig,ax = plt.subplots()\n",
    "plot_n_q = N_Q_df[['flight_datetime','N', 'Q']].set_index('flight_datetime').resample('5min').mean()\n",
    "ax.plot(plot_n_q['N'], label='N')\n",
    "ax.plot(plot_n_q['Q'], label = 'Q')\n",
    "plt.legend()\n",
    "ax2 = ax.twinx()\n",
    "plt_taxi = merged_df[['flight_datetime', 'taxi_out']].set_index('flight_datetime').resample('5min').mean()\n",
    "ax2.plot(plt_taxi, label='taxi time', color='green')\n",
    "plt.legend()\n",
    "plt.xlim(np.datetime64('2015-01-01'), np.datetime64('2015-02-01'))\n",
    "fig.autofmt_xdate()\n",
    "plt.show()\n"
   ]
  },
  {
   "cell_type": "code",
   "execution_count": 230,
   "metadata": {},
   "outputs": [
    {
     "data": {
      "text/plain": [
       "<fbprophet.forecaster.Prophet at 0x27491a67dc0>"
      ]
     },
     "execution_count": 230,
     "metadata": {},
     "output_type": "execute_result"
    }
   ],
   "source": [
    "from fbprophet import Prophet\n",
    "#del(m)\n",
    "m = Prophet(weekly_seasonality=True, daily_seasonality=True, seasonality_mode='multiplicative')\n",
    "m.add_country_holidays(country_name='UK')\n",
    "df_proph = merged_df[['flight_datetime', 'taxi_out']]\n",
    "df_proph.columns = ['ds', 'y']\n",
    "df_proph = df_proph.set_index('ds').resample('5min').mean()\n",
    "df_proph.reset_index(inplace=True)\n",
    "m.fit(df_proph)"
   ]
  },
  {
   "cell_type": "code",
   "execution_count": 216,
   "metadata": {},
   "outputs": [
    {
     "data": {
      "text/plain": [
       "<fbprophet.forecaster.Prophet at 0x27481fede50>"
      ]
     },
     "execution_count": 216,
     "metadata": {},
     "output_type": "execute_result"
    }
   ],
   "source": [
    "m_n = Prophet(weekly_seasonality=True, daily_seasonality=True, seasonality_mode='multiplicative')\n",
    "m_n.add_country_holidays(country_name='UK')\n",
    "df_proph_n = merged_df[['flight_datetime', 'N']]\n",
    "df_proph_n.columns = ['ds', 'y']\n",
    "df_proph_n = df_proph_n.set_index('ds').resample('5min').mean()\n",
    "df_proph_n.reset_index(inplace=True)\n",
    "m_n.fit(df_proph)"
   ]
  },
  {
   "cell_type": "code",
   "execution_count": 217,
   "metadata": {},
   "outputs": [
    {
     "data": {
      "text/plain": [
       "<fbprophet.forecaster.Prophet at 0x274a79c9790>"
      ]
     },
     "execution_count": 217,
     "metadata": {},
     "output_type": "execute_result"
    }
   ],
   "source": [
    "m_q = Prophet(weekly_seasonality=True, daily_seasonality=True, seasonality_mode='multiplicative')\n",
    "m_q.add_country_holidays(country_name='UK')\n",
    "df_proph_q = merged_df[['flight_datetime', 'Q']]\n",
    "df_proph_q.columns = ['ds', 'y']\n",
    "df_proph_q = df_proph_q.set_index('ds').resample('5min').mean()\n",
    "df_proph_q.reset_index(inplace=True)\n",
    "m_q.fit(df_proph)"
   ]
  },
  {
   "cell_type": "code",
   "execution_count": 218,
   "metadata": {},
   "outputs": [
    {
     "name": "stderr",
     "output_type": "stream",
     "text": [
      "C:\\ProgramData\\Anaconda3\\lib\\site-packages\\fbprophet\\plot.py:422: UserWarning:\n",
      "\n",
      "FixedFormatter should only be used together with FixedLocator\n",
      "\n",
      "C:\\ProgramData\\Anaconda3\\lib\\site-packages\\fbprophet\\plot.py:422: UserWarning:\n",
      "\n",
      "FixedFormatter should only be used together with FixedLocator\n",
      "\n",
      "C:\\ProgramData\\Anaconda3\\lib\\site-packages\\fbprophet\\plot.py:422: UserWarning:\n",
      "\n",
      "FixedFormatter should only be used together with FixedLocator\n",
      "\n",
      "C:\\ProgramData\\Anaconda3\\lib\\site-packages\\fbprophet\\plot.py:422: UserWarning:\n",
      "\n",
      "FixedFormatter should only be used together with FixedLocator\n",
      "\n"
     ]
    },
    {
     "data": {
      "image/png": "[encoded data removed]",
      "text/plain": [
       "<Figure size 648x1080 with 5 Axes>"
      ]
     },
     "metadata": {},
     "output_type": "display_data"
    }
   ],
   "source": [
    "fig = m_n.plot_components(forecast)"
   ]
  },
  {
   "cell_type": "code",
   "execution_count": 277,
   "metadata": {},
   "outputs": [
    {
     "data": {
      "text/plain": [
       "<Figure size 1440x720 with 0 Axes>"
      ]
     },
     "metadata": {},
     "output_type": "display_data"
    },
    {
     "data": {
      "image/png": "[encoded data removed]",
      "text/plain": [
       "<Figure size 720x432 with 1 Axes>"
      ]
     },
     "metadata": {},
     "output_type": "display_data"
    }
   ],
   "source": [
    "plt.figure(figsize=(20,10))\n",
    "fig1 = m_n.plot(forecast)\n",
    "plt.xlim(np.datetime64('2018-12-01'),np.datetime64('2018-12-31'))\n",
    "plt.xlabel('Date')\n",
    "plt.ylabel('N')\n",
    "plt.title('Facebook Prophet prediction for N')\n",
    "plt.ylim(0,40)\n",
    "plt.show()"
   ]
  },
  {
   "cell_type": "code",
   "execution_count": 231,
   "metadata": {},
   "outputs": [],
   "source": [
    "merged_df = merged_df.dropna()\n",
    "merged_df['rounded_hour'] = merged_df['flight_datetime'].dt.round('H')\n",
    "merged_df['rounded_5m'] = merged_df['flight_datetime'].dt.round('5min')\n",
    "fb_prophet_est = m.history[['ds', 'y']]\n",
    "fb_prophet_est.columns = ['rounded_5m', 'Taxi_prophet']\n",
    "merged_df = merged_df.merge(fb_prophet_est)\n",
    "fb_prophet_est = m_n.history[['ds', 'y']]\n",
    "fb_prophet_est.columns = ['rounded_5m', 'N_prophet']\n",
    "merged_df = merged_df.merge(fb_prophet_est)\n",
    "fb_prophet_est = m_q.history[['ds', 'y']]\n",
    "fb_prophet_est.columns = ['rounded_5m', 'Q_prophet']\n",
    "merged_df = merged_df.merge(fb_prophet_est)"
   ]
  },
  {
   "cell_type": "markdown",
   "metadata": {},
   "source": [
    "### Remove outliers"
   ]
  },
  {
   "cell_type": "code",
   "execution_count": 232,
   "metadata": {},
   "outputs": [],
   "source": [
    "merged_df = merged_df[merged_df['taxi_out']<500]\n",
    "merged_df['delay'] = (abs(merged_df['flight_datetime'] - merged_df['AOBT'])).astype('int64')/(6*10**10)"
   ]
  },
  {
   "cell_type": "code",
   "execution_count": 233,
   "metadata": {},
   "outputs": [],
   "source": [
    "merged_df['taxi_out_mov_avg'] = merged_df.set_index('flight_datetime')['taxi_out'].rolling('60D', min_periods=1).mean().values"
   ]
  },
  {
   "cell_type": "code",
   "execution_count": 234,
   "metadata": {},
   "outputs": [],
   "source": [
    "test = merged_df.groupby(['stand', 'runway']).median()[['distance', 'taxi_out']]\n",
    "test['vel'] = test['distance']/test['taxi_out']\n",
    "merged_df = merged_df.merge(test['vel'], left_on = ['stand', 'runway'], right_on=['stand', 'runway'])"
   ]
  },
  {
   "cell_type": "markdown",
   "metadata": {},
   "source": [
    "### Isolating the target variable"
   ]
  },
  {
   "cell_type": "code",
   "execution_count": 235,
   "metadata": {},
   "outputs": [],
   "source": [
    "y = merged_df.pop('taxi_out')"
   ]
  },
  {
   "cell_type": "code",
   "execution_count": 236,
   "metadata": {},
   "outputs": [
    {
     "data": {
      "text/html": [
       "<div>\n",
       "<style scoped>\n",
       "    .dataframe tbody tr th:only-of-type {\n",
       "        vertical-align: middle;\n",
       "    }\n",
       "\n",
       "    .dataframe tbody tr th {\n",
       "        vertical-align: top;\n",
       "    }\n",
       "\n",
       "    .dataframe thead th {\n",
       "        text-align: right;\n",
       "    }\n",
       "</style>\n",
       "<table border=\"1\" class=\"dataframe\">\n",
       "  <thead>\n",
       "    <tr style=\"text-align: right;\">\n",
       "      <th></th>\n",
       "      <th>flight_datetime</th>\n",
       "      <th>aircraft_model</th>\n",
       "      <th>AOBT</th>\n",
       "      <th>ATOT</th>\n",
       "      <th>stand</th>\n",
       "      <th>runway</th>\n",
       "      <th>time_hourly</th>\n",
       "      <th>summary</th>\n",
       "      <th>temperature</th>\n",
       "      <th>dewPoint</th>\n",
       "      <th>...</th>\n",
       "      <th>N_rw</th>\n",
       "      <th>Q_rw</th>\n",
       "      <th>rounded_hour</th>\n",
       "      <th>rounded_5m</th>\n",
       "      <th>Taxi_prophet</th>\n",
       "      <th>N_prophet</th>\n",
       "      <th>Q_prophet</th>\n",
       "      <th>delay</th>\n",
       "      <th>taxi_out_mov_avg</th>\n",
       "      <th>vel</th>\n",
       "    </tr>\n",
       "  </thead>\n",
       "  <tbody>\n",
       "    <tr>\n",
       "      <th>0</th>\n",
       "      <td>2015-01-01 06:00:00</td>\n",
       "      <td>B737-800 WINGLETS</td>\n",
       "      <td>2015-01-01 05:56:00</td>\n",
       "      <td>2015-01-01 06:05:00</td>\n",
       "      <td>STAND_62</td>\n",
       "      <td>RUNWAY_4</td>\n",
       "      <td>2015-01-01 06:00:00</td>\n",
       "      <td>Cloudy</td>\n",
       "      <td>44.65</td>\n",
       "      <td>42.80</td>\n",
       "      <td>...</td>\n",
       "      <td>0</td>\n",
       "      <td>0</td>\n",
       "      <td>2015-01-01 06:00:00</td>\n",
       "      <td>2015-01-01 06:00:00</td>\n",
       "      <td>9.000000</td>\n",
       "      <td>11.000000</td>\n",
       "      <td>11.000000</td>\n",
       "      <td>4.0</td>\n",
       "      <td>9.000000</td>\n",
       "      <td>63.888889</td>\n",
       "    </tr>\n",
       "    <tr>\n",
       "      <th>1</th>\n",
       "      <td>2015-01-04 08:00:00</td>\n",
       "      <td>B737-800 WINGLETS</td>\n",
       "      <td>2015-01-04 08:26:00</td>\n",
       "      <td>2015-01-04 08:41:00</td>\n",
       "      <td>STAND_62</td>\n",
       "      <td>RUNWAY_4</td>\n",
       "      <td>2015-01-04 08:00:00</td>\n",
       "      <td>Foggy</td>\n",
       "      <td>35.65</td>\n",
       "      <td>33.78</td>\n",
       "      <td>...</td>\n",
       "      <td>3</td>\n",
       "      <td>2</td>\n",
       "      <td>2015-01-04 08:00:00</td>\n",
       "      <td>2015-01-04 08:00:00</td>\n",
       "      <td>16.000000</td>\n",
       "      <td>16.166667</td>\n",
       "      <td>16.166667</td>\n",
       "      <td>26.0</td>\n",
       "      <td>14.510490</td>\n",
       "      <td>63.888889</td>\n",
       "    </tr>\n",
       "    <tr>\n",
       "      <th>2</th>\n",
       "      <td>2015-01-20 10:00:00</td>\n",
       "      <td>A321-100/200</td>\n",
       "      <td>2015-01-20 09:59:00</td>\n",
       "      <td>2015-01-20 10:14:00</td>\n",
       "      <td>STAND_62</td>\n",
       "      <td>RUNWAY_4</td>\n",
       "      <td>2015-01-20 10:00:00</td>\n",
       "      <td>Clear</td>\n",
       "      <td>26.68</td>\n",
       "      <td>26.62</td>\n",
       "      <td>...</td>\n",
       "      <td>0</td>\n",
       "      <td>0</td>\n",
       "      <td>2015-01-20 10:00:00</td>\n",
       "      <td>2015-01-20 10:00:00</td>\n",
       "      <td>14.500000</td>\n",
       "      <td>15.066667</td>\n",
       "      <td>15.066667</td>\n",
       "      <td>1.0</td>\n",
       "      <td>14.709302</td>\n",
       "      <td>63.888889</td>\n",
       "    </tr>\n",
       "    <tr>\n",
       "      <th>3</th>\n",
       "      <td>2015-01-25 16:00:00</td>\n",
       "      <td>A319</td>\n",
       "      <td>2015-01-25 16:08:00</td>\n",
       "      <td>2015-01-25 16:22:00</td>\n",
       "      <td>STAND_62</td>\n",
       "      <td>RUNWAY_4</td>\n",
       "      <td>2015-01-25 16:00:00</td>\n",
       "      <td>Cloudy</td>\n",
       "      <td>46.46</td>\n",
       "      <td>37.40</td>\n",
       "      <td>...</td>\n",
       "      <td>2</td>\n",
       "      <td>2</td>\n",
       "      <td>2015-01-25 16:00:00</td>\n",
       "      <td>2015-01-25 16:00:00</td>\n",
       "      <td>13.250000</td>\n",
       "      <td>13.000000</td>\n",
       "      <td>13.000000</td>\n",
       "      <td>8.0</td>\n",
       "      <td>14.723819</td>\n",
       "      <td>63.888889</td>\n",
       "    </tr>\n",
       "    <tr>\n",
       "      <th>4</th>\n",
       "      <td>2015-02-04 08:00:00</td>\n",
       "      <td>A319</td>\n",
       "      <td>2015-02-04 08:06:00</td>\n",
       "      <td>2015-02-04 08:21:00</td>\n",
       "      <td>STAND_62</td>\n",
       "      <td>RUNWAY_4</td>\n",
       "      <td>2015-02-04 08:00:00</td>\n",
       "      <td>Cloudy</td>\n",
       "      <td>33.84</td>\n",
       "      <td>32.02</td>\n",
       "      <td>...</td>\n",
       "      <td>2</td>\n",
       "      <td>2</td>\n",
       "      <td>2015-02-04 08:00:00</td>\n",
       "      <td>2015-02-04 08:00:00</td>\n",
       "      <td>20.500000</td>\n",
       "      <td>16.277778</td>\n",
       "      <td>16.277778</td>\n",
       "      <td>6.0</td>\n",
       "      <td>14.415038</td>\n",
       "      <td>63.888889</td>\n",
       "    </tr>\n",
       "    <tr>\n",
       "      <th>...</th>\n",
       "      <td>...</td>\n",
       "      <td>...</td>\n",
       "      <td>...</td>\n",
       "      <td>...</td>\n",
       "      <td>...</td>\n",
       "      <td>...</td>\n",
       "      <td>...</td>\n",
       "      <td>...</td>\n",
       "      <td>...</td>\n",
       "      <td>...</td>\n",
       "      <td>...</td>\n",
       "      <td>...</td>\n",
       "      <td>...</td>\n",
       "      <td>...</td>\n",
       "      <td>...</td>\n",
       "      <td>...</td>\n",
       "      <td>...</td>\n",
       "      <td>...</td>\n",
       "      <td>...</td>\n",
       "      <td>...</td>\n",
       "      <td>...</td>\n",
       "    </tr>\n",
       "    <tr>\n",
       "      <th>64984</th>\n",
       "      <td>2018-11-21 07:00:00</td>\n",
       "      <td>A319</td>\n",
       "      <td>2018-11-21 06:59:00</td>\n",
       "      <td>2018-11-21 07:10:00</td>\n",
       "      <td>STAND_10</td>\n",
       "      <td>RUNWAY_2</td>\n",
       "      <td>2018-11-21 07:00:00</td>\n",
       "      <td>Clear</td>\n",
       "      <td>35.31</td>\n",
       "      <td>33.78</td>\n",
       "      <td>...</td>\n",
       "      <td>0</td>\n",
       "      <td>0</td>\n",
       "      <td>2018-11-21 07:00:00</td>\n",
       "      <td>2018-11-21 07:00:00</td>\n",
       "      <td>12.250000</td>\n",
       "      <td>17.680000</td>\n",
       "      <td>17.680000</td>\n",
       "      <td>1.0</td>\n",
       "      <td>19.290358</td>\n",
       "      <td>136.052632</td>\n",
       "    </tr>\n",
       "    <tr>\n",
       "      <th>64985</th>\n",
       "      <td>2018-11-26 17:00:00</td>\n",
       "      <td>A320-100/200</td>\n",
       "      <td>2018-11-26 17:33:00</td>\n",
       "      <td>2018-11-26 17:52:00</td>\n",
       "      <td>STAND_10</td>\n",
       "      <td>RUNWAY_2</td>\n",
       "      <td>2018-11-26 17:00:00</td>\n",
       "      <td>Clear</td>\n",
       "      <td>44.65</td>\n",
       "      <td>41.00</td>\n",
       "      <td>...</td>\n",
       "      <td>1</td>\n",
       "      <td>1</td>\n",
       "      <td>2018-11-26 17:00:00</td>\n",
       "      <td>2018-11-26 17:00:00</td>\n",
       "      <td>17.333333</td>\n",
       "      <td>19.550000</td>\n",
       "      <td>19.550000</td>\n",
       "      <td>33.0</td>\n",
       "      <td>19.062664</td>\n",
       "      <td>136.052632</td>\n",
       "    </tr>\n",
       "    <tr>\n",
       "      <th>64986</th>\n",
       "      <td>2018-12-07 09:00:00</td>\n",
       "      <td>A330-300</td>\n",
       "      <td>2018-12-07 09:40:00</td>\n",
       "      <td>2018-12-07 10:09:00</td>\n",
       "      <td>STAND_10</td>\n",
       "      <td>RUNWAY_2</td>\n",
       "      <td>2018-12-07 09:00:00</td>\n",
       "      <td>Clear</td>\n",
       "      <td>53.65</td>\n",
       "      <td>51.79</td>\n",
       "      <td>...</td>\n",
       "      <td>4</td>\n",
       "      <td>4</td>\n",
       "      <td>2018-12-07 09:00:00</td>\n",
       "      <td>2018-12-07 09:00:00</td>\n",
       "      <td>25.333333</td>\n",
       "      <td>26.269231</td>\n",
       "      <td>26.269231</td>\n",
       "      <td>40.0</td>\n",
       "      <td>18.404297</td>\n",
       "      <td>136.052632</td>\n",
       "    </tr>\n",
       "    <tr>\n",
       "      <th>64987</th>\n",
       "      <td>2018-12-07 12:00:00</td>\n",
       "      <td>A319</td>\n",
       "      <td>2018-12-07 12:14:00</td>\n",
       "      <td>2018-12-07 12:35:00</td>\n",
       "      <td>STAND_10</td>\n",
       "      <td>RUNWAY_2</td>\n",
       "      <td>2018-12-07 12:00:00</td>\n",
       "      <td>Clear</td>\n",
       "      <td>50.05</td>\n",
       "      <td>48.20</td>\n",
       "      <td>...</td>\n",
       "      <td>2</td>\n",
       "      <td>1</td>\n",
       "      <td>2018-12-07 12:00:00</td>\n",
       "      <td>2018-12-07 12:00:00</td>\n",
       "      <td>19.750000</td>\n",
       "      <td>18.521739</td>\n",
       "      <td>18.521739</td>\n",
       "      <td>14.0</td>\n",
       "      <td>18.413349</td>\n",
       "      <td>136.052632</td>\n",
       "    </tr>\n",
       "    <tr>\n",
       "      <th>64988</th>\n",
       "      <td>2018-12-08 09:00:00</td>\n",
       "      <td>A319</td>\n",
       "      <td>2018-12-08 09:07:00</td>\n",
       "      <td>2018-12-08 09:26:00</td>\n",
       "      <td>STAND_10</td>\n",
       "      <td>RUNWAY_2</td>\n",
       "      <td>2018-12-08 09:00:00</td>\n",
       "      <td>Clear</td>\n",
       "      <td>48.26</td>\n",
       "      <td>39.22</td>\n",
       "      <td>...</td>\n",
       "      <td>3</td>\n",
       "      <td>3</td>\n",
       "      <td>2018-12-08 09:00:00</td>\n",
       "      <td>2018-12-08 09:00:00</td>\n",
       "      <td>24.333333</td>\n",
       "      <td>21.625000</td>\n",
       "      <td>21.625000</td>\n",
       "      <td>7.0</td>\n",
       "      <td>18.407509</td>\n",
       "      <td>136.052632</td>\n",
       "    </tr>\n",
       "  </tbody>\n",
       "</table>\n",
       "<p>64989 rows × 51 columns</p>\n",
       "</div>"
      ],
      "text/plain": [
       "          flight_datetime     aircraft_model                AOBT  \\\n",
       "0     2015-01-01 06:00:00  B737-800 WINGLETS 2015-01-01 05:56:00   \n",
       "1     2015-01-04 08:00:00  B737-800 WINGLETS 2015-01-04 08:26:00   \n",
       "2     2015-01-20 10:00:00       A321-100/200 2015-01-20 09:59:00   \n",
       "3     2015-01-25 16:00:00               A319 2015-01-25 16:08:00   \n",
       "4     2015-02-04 08:00:00               A319 2015-02-04 08:06:00   \n",
       "...                   ...                ...                 ...   \n",
       "64984 2018-11-21 07:00:00               A319 2018-11-21 06:59:00   \n",
       "64985 2018-11-26 17:00:00       A320-100/200 2018-11-26 17:33:00   \n",
       "64986 2018-12-07 09:00:00           A330-300 2018-12-07 09:40:00   \n",
       "64987 2018-12-07 12:00:00               A319 2018-12-07 12:14:00   \n",
       "64988 2018-12-08 09:00:00               A319 2018-12-08 09:07:00   \n",
       "\n",
       "                     ATOT     stand    runway         time_hourly summary  \\\n",
       "0     2015-01-01 06:05:00  STAND_62  RUNWAY_4 2015-01-01 06:00:00  Cloudy   \n",
       "1     2015-01-04 08:41:00  STAND_62  RUNWAY_4 2015-01-04 08:00:00   Foggy   \n",
       "2     2015-01-20 10:14:00  STAND_62  RUNWAY_4 2015-01-20 10:00:00   Clear   \n",
       "3     2015-01-25 16:22:00  STAND_62  RUNWAY_4 2015-01-25 16:00:00  Cloudy   \n",
       "4     2015-02-04 08:21:00  STAND_62  RUNWAY_4 2015-02-04 08:00:00  Cloudy   \n",
       "...                   ...       ...       ...                 ...     ...   \n",
       "64984 2018-11-21 07:10:00  STAND_10  RUNWAY_2 2018-11-21 07:00:00   Clear   \n",
       "64985 2018-11-26 17:52:00  STAND_10  RUNWAY_2 2018-11-26 17:00:00   Clear   \n",
       "64986 2018-12-07 10:09:00  STAND_10  RUNWAY_2 2018-12-07 09:00:00   Clear   \n",
       "64987 2018-12-07 12:35:00  STAND_10  RUNWAY_2 2018-12-07 12:00:00   Clear   \n",
       "64988 2018-12-08 09:26:00  STAND_10  RUNWAY_2 2018-12-08 09:00:00   Clear   \n",
       "\n",
       "       temperature  dewPoint  ...  N_rw  Q_rw        rounded_hour  \\\n",
       "0            44.65     42.80  ...     0     0 2015-01-01 06:00:00   \n",
       "1            35.65     33.78  ...     3     2 2015-01-04 08:00:00   \n",
       "2            26.68     26.62  ...     0     0 2015-01-20 10:00:00   \n",
       "3            46.46     37.40  ...     2     2 2015-01-25 16:00:00   \n",
       "4            33.84     32.02  ...     2     2 2015-02-04 08:00:00   \n",
       "...            ...       ...  ...   ...   ...                 ...   \n",
       "64984        35.31     33.78  ...     0     0 2018-11-21 07:00:00   \n",
       "64985        44.65     41.00  ...     1     1 2018-11-26 17:00:00   \n",
       "64986        53.65     51.79  ...     4     4 2018-12-07 09:00:00   \n",
       "64987        50.05     48.20  ...     2     1 2018-12-07 12:00:00   \n",
       "64988        48.26     39.22  ...     3     3 2018-12-08 09:00:00   \n",
       "\n",
       "               rounded_5m  Taxi_prophet  N_prophet  Q_prophet  delay  \\\n",
       "0     2015-01-01 06:00:00      9.000000  11.000000  11.000000    4.0   \n",
       "1     2015-01-04 08:00:00     16.000000  16.166667  16.166667   26.0   \n",
       "2     2015-01-20 10:00:00     14.500000  15.066667  15.066667    1.0   \n",
       "3     2015-01-25 16:00:00     13.250000  13.000000  13.000000    8.0   \n",
       "4     2015-02-04 08:00:00     20.500000  16.277778  16.277778    6.0   \n",
       "...                   ...           ...        ...        ...    ...   \n",
       "64984 2018-11-21 07:00:00     12.250000  17.680000  17.680000    1.0   \n",
       "64985 2018-11-26 17:00:00     17.333333  19.550000  19.550000   33.0   \n",
       "64986 2018-12-07 09:00:00     25.333333  26.269231  26.269231   40.0   \n",
       "64987 2018-12-07 12:00:00     19.750000  18.521739  18.521739   14.0   \n",
       "64988 2018-12-08 09:00:00     24.333333  21.625000  21.625000    7.0   \n",
       "\n",
       "       taxi_out_mov_avg         vel  \n",
       "0              9.000000   63.888889  \n",
       "1             14.510490   63.888889  \n",
       "2             14.709302   63.888889  \n",
       "3             14.723819   63.888889  \n",
       "4             14.415038   63.888889  \n",
       "...                 ...         ...  \n",
       "64984         19.290358  136.052632  \n",
       "64985         19.062664  136.052632  \n",
       "64986         18.404297  136.052632  \n",
       "64987         18.413349  136.052632  \n",
       "64988         18.407509  136.052632  \n",
       "\n",
       "[64989 rows x 51 columns]"
      ]
     },
     "execution_count": 236,
     "metadata": {},
     "output_type": "execute_result"
    }
   ],
   "source": [
    "merged_df"
   ]
  },
  {
   "cell_type": "code",
   "execution_count": 237,
   "metadata": {},
   "outputs": [],
   "source": [
    "X = merged_df"
   ]
  },
  {
   "cell_type": "code",
   "execution_count": 238,
   "metadata": {},
   "outputs": [],
   "source": [
    "X['flight_day']=X['flight_datetime'].dt.day_name()"
   ]
  },
  {
   "cell_type": "code",
   "execution_count": 239,
   "metadata": {},
   "outputs": [],
   "source": [
    "X['flight_month']=X['flight_datetime'].dt.month_name()"
   ]
  },
  {
   "cell_type": "code",
   "execution_count": 240,
   "metadata": {},
   "outputs": [],
   "source": [
    "val = (X['flight_datetime'].dt.hour % 24 + 4) // 4\n",
    "val.replace({1: 'Late Night',\n",
    "                      2: 'Early Morning',\n",
    "                      3: 'Morning',\n",
    "                      4: 'Noon',\n",
    "                      5: 'Evening',\n",
    "                      6: 'Night'}, inplace=True)"
   ]
  },
  {
   "cell_type": "code",
   "execution_count": 241,
   "metadata": {},
   "outputs": [],
   "source": [
    "X['day_moment']=val"
   ]
  },
  {
   "cell_type": "code",
   "execution_count": 242,
   "metadata": {},
   "outputs": [],
   "source": [
    "X = X.drop(['flight_datetime','aircraft_model','AOBT','ATOT','stand','index','time_hourly','manufacturer','full_aircraft_model'], axis=1)"
   ]
  },
  {
   "cell_type": "code",
   "execution_count": 243,
   "metadata": {
    "scrolled": true
   },
   "outputs": [
    {
     "data": {
      "text/plain": [
       "Index(['runway', 'summary', 'temperature', 'dewPoint', 'humidity', 'windSpeed',\n",
       "       'windGust', 'windBearing', 'cloudCover', 'uvIndex', 'visibility',\n",
       "       'Lat_runway', 'Lng_runway', 'Lat_stand', 'Lng_stand', 'engine class',\n",
       "       'number_engines', 'approach_speed', 'wingtip_config', 'wingspan_feet',\n",
       "       'length_feet', 'tail_height_feet', 'wheelbase_feet',\n",
       "       'cockpit_to_main_gear_feet', 'main_gear_width', 'max_takeoff_weight',\n",
       "       'max_ramp_taxi_weight', 'parking_area_square_feet',\n",
       "       'number_gear_types_tandem', 'distance', 'N', 'Q', 'N_rw', 'Q_rw',\n",
       "       'rounded_hour', 'rounded_5m', 'Taxi_prophet', 'N_prophet', 'Q_prophet',\n",
       "       'delay', 'taxi_out_mov_avg', 'vel', 'flight_day', 'flight_month',\n",
       "       'day_moment'],\n",
       "      dtype='object')"
      ]
     },
     "execution_count": 243,
     "metadata": {},
     "output_type": "execute_result"
    }
   ],
   "source": [
    "X.columns"
   ]
  },
  {
   "cell_type": "code",
   "execution_count": 244,
   "metadata": {},
   "outputs": [],
   "source": [
    "X['number_engines'] = pd.to_numeric(X['number_engines'], downcast=\"float\")\n",
    "X['wingspan_feet'] = pd.to_numeric(X['wingspan_feet'], downcast=\"float\")\n",
    "X['length_feet'] = pd.to_numeric(X['length_feet'], downcast=\"float\")\n",
    "X['tail_height_feet'] = pd.to_numeric(X['tail_height_feet'], downcast=\"float\")\n",
    "X['wheelbase_feet'] = pd.to_numeric(X['wheelbase_feet'], downcast=\"float\")\n",
    "X['cockpit_to_main_gear_feet'] = pd.to_numeric(X['cockpit_to_main_gear_feet'], downcast=\"float\")\n",
    "X['main_gear_width'] = pd.to_numeric(X['main_gear_width'], downcast=\"float\")\n",
    "X['max_takeoff_weight'] = pd.to_numeric(X['max_takeoff_weight'], downcast=\"float\")\n",
    "X['max_ramp_taxi_weight'] = pd.to_numeric(X['max_ramp_taxi_weight'], downcast=\"float\")\n",
    "X['parking_area_square_feet'] = pd.to_numeric(X['parking_area_square_feet'], downcast=\"float\")"
   ]
  },
  {
   "cell_type": "code",
   "execution_count": 245,
   "metadata": {},
   "outputs": [
    {
     "data": {
      "text/plain": [
       "['runway',\n",
       " 'summary',\n",
       " 'engine class',\n",
       " 'wingtip_config',\n",
       " 'number_gear_types_tandem',\n",
       " 'flight_day',\n",
       " 'flight_month',\n",
       " 'day_moment']"
      ]
     },
     "execution_count": 245,
     "metadata": {},
     "output_type": "execute_result"
    }
   ],
   "source": [
    "X.select_dtypes('object').columns.tolist()"
   ]
  },
  {
   "cell_type": "code",
   "execution_count": 246,
   "metadata": {
    "scrolled": true
   },
   "outputs": [
    {
     "name": "stdout",
     "output_type": "stream",
     "text": [
      "['runway', 'summary', 'engine class', 'wingtip_config', 'number_gear_types_tandem', 'flight_day', 'flight_month', 'day_moment']\n"
     ]
    }
   ],
   "source": [
    "from sklearn.preprocessing import OneHotEncoder\n",
    "\n",
    "# seleziona le features non numeriche\n",
    "cat_column_names = X.select_dtypes('object').columns.tolist()\n",
    "print(cat_column_names)\n",
    "#cat_column_names.remove('Note')\n",
    "#cat_column_names.remove('Years Manufactured')\n",
    "#cat_column_names.remove('Wheelbase, ft')\n",
    "\n",
    "\n",
    "\n",
    "# Fit dell'encoder sul train\n",
    "ohe = OneHotEncoder(\n",
    "    sparse=False,\n",
    "    handle_unknown='ignore'  # mette tutti zero nel caso trovassimo classi sconosciute durante il \"transform\"\n",
    ")\n",
    "# converto in stringa, così anche eventuali nulli saranno categorie, poi faccio fit\n",
    "ohe.fit(X[cat_column_names].astype(str))\n",
    "\n",
    "# l'output di OneHotEncoder.transform sarà un numpy array, ma lo voglio ritrasformare in pandas dataframe\n",
    "new_column_names = [\n",
    "    f\"{category} - {level}\" for category, level_list in zip(cat_column_names, ohe.categories_)\n",
    "    for level in level_list]\n",
    "\n",
    "X_ohe = pd.DataFrame(\n",
    "    ohe.transform(X[cat_column_names].astype(str)),\n",
    "    index=X.index,\n",
    "    columns=new_column_names)\n",
    "\n",
    "# butto via le vecchie colonne categoriche e aggiungo le nuove\n",
    "X = pd.concat([\n",
    "    X.drop(cat_column_names, axis=1),\n",
    "    X_ohe], axis=1)\n"
   ]
  },
  {
   "cell_type": "code",
   "execution_count": 247,
   "metadata": {},
   "outputs": [
    {
     "data": {
      "text/plain": [
       "Index(['temperature', 'dewPoint', 'humidity', 'windSpeed', 'windGust',\n",
       "       'windBearing', 'cloudCover', 'uvIndex', 'visibility', 'Lat_runway',\n",
       "       'Lng_runway', 'Lat_stand', 'Lng_stand', 'number_engines',\n",
       "       'approach_speed', 'wingspan_feet', 'length_feet', 'tail_height_feet',\n",
       "       'wheelbase_feet', 'cockpit_to_main_gear_feet', 'main_gear_width',\n",
       "       'max_takeoff_weight', 'max_ramp_taxi_weight',\n",
       "       'parking_area_square_feet', 'distance', 'N', 'Q', 'N_rw', 'Q_rw',\n",
       "       'rounded_hour', 'rounded_5m', 'Taxi_prophet', 'N_prophet', 'Q_prophet',\n",
       "       'delay', 'taxi_out_mov_avg', 'vel', 'runway - RUNWAY_1',\n",
       "       'runway - RUNWAY_2', 'runway - RUNWAY_3', 'runway - RUNWAY_4',\n",
       "       'summary - Clear', 'summary - Clouds and Wind', 'summary - Cloudy',\n",
       "       'summary - Dangerously Windy', 'summary - Drizzle', 'summary - Foggy',\n",
       "       'summary - Possible Drizzle', 'summary - Possible Light Rain',\n",
       "       'summary - Rain', 'summary - Rain and Wind', 'engine class - Jet',\n",
       "       'engine class - Turboprop', 'wingtip_config - no winglets',\n",
       "       'wingtip_config - winglets', 'wingtip_config - wingtip fences',\n",
       "       'number_gear_types_tandem - 1', 'number_gear_types_tandem - 2',\n",
       "       'number_gear_types_tandem - 3', 'flight_day - Friday',\n",
       "       'flight_day - Monday', 'flight_day - Saturday', 'flight_day - Sunday',\n",
       "       'flight_day - Thursday', 'flight_day - Tuesday',\n",
       "       'flight_day - Wednesday', 'flight_month - April',\n",
       "       'flight_month - August', 'flight_month - December',\n",
       "       'flight_month - February', 'flight_month - January',\n",
       "       'flight_month - July', 'flight_month - June', 'flight_month - March',\n",
       "       'flight_month - May', 'flight_month - November',\n",
       "       'flight_month - October', 'flight_month - September',\n",
       "       'day_moment - Early Morning', 'day_moment - Evening',\n",
       "       'day_moment - Late Night', 'day_moment - Morning', 'day_moment - Night',\n",
       "       'day_moment - Noon'],\n",
       "      dtype='object')"
      ]
     },
     "execution_count": 247,
     "metadata": {},
     "output_type": "execute_result"
    }
   ],
   "source": [
    "X.columns"
   ]
  },
  {
   "cell_type": "markdown",
   "metadata": {},
   "source": [
    "### Remove outliers"
   ]
  },
  {
   "cell_type": "markdown",
   "metadata": {},
   "source": [
    "### Applying a scaling"
   ]
  },
  {
   "cell_type": "code",
   "execution_count": 248,
   "metadata": {
    "scrolled": true
   },
   "outputs": [
    {
     "data": {
      "text/plain": [
       "['temperature',\n",
       " 'dewPoint',\n",
       " 'humidity',\n",
       " 'windSpeed',\n",
       " 'windGust',\n",
       " 'windBearing',\n",
       " 'cloudCover',\n",
       " 'uvIndex',\n",
       " 'visibility',\n",
       " 'Lat_runway',\n",
       " 'Lng_runway',\n",
       " 'Lat_stand',\n",
       " 'Lng_stand',\n",
       " 'approach_speed',\n",
       " 'distance',\n",
       " 'Taxi_prophet',\n",
       " 'N_prophet',\n",
       " 'Q_prophet',\n",
       " 'delay',\n",
       " 'taxi_out_mov_avg',\n",
       " 'vel',\n",
       " 'runway - RUNWAY_1',\n",
       " 'runway - RUNWAY_2',\n",
       " 'runway - RUNWAY_3',\n",
       " 'runway - RUNWAY_4',\n",
       " 'summary - Clear',\n",
       " 'summary - Clouds and Wind',\n",
       " 'summary - Cloudy',\n",
       " 'summary - Dangerously Windy',\n",
       " 'summary - Drizzle',\n",
       " 'summary - Foggy',\n",
       " 'summary - Possible Drizzle',\n",
       " 'summary - Possible Light Rain',\n",
       " 'summary - Rain',\n",
       " 'summary - Rain and Wind',\n",
       " 'engine class - Jet',\n",
       " 'engine class - Turboprop',\n",
       " 'wingtip_config - no winglets',\n",
       " 'wingtip_config - winglets',\n",
       " 'wingtip_config - wingtip fences',\n",
       " 'number_gear_types_tandem - 1',\n",
       " 'number_gear_types_tandem - 2',\n",
       " 'number_gear_types_tandem - 3',\n",
       " 'flight_day - Friday',\n",
       " 'flight_day - Monday',\n",
       " 'flight_day - Saturday',\n",
       " 'flight_day - Sunday',\n",
       " 'flight_day - Thursday',\n",
       " 'flight_day - Tuesday',\n",
       " 'flight_day - Wednesday',\n",
       " 'flight_month - April',\n",
       " 'flight_month - August',\n",
       " 'flight_month - December',\n",
       " 'flight_month - February',\n",
       " 'flight_month - January',\n",
       " 'flight_month - July',\n",
       " 'flight_month - June',\n",
       " 'flight_month - March',\n",
       " 'flight_month - May',\n",
       " 'flight_month - November',\n",
       " 'flight_month - October',\n",
       " 'flight_month - September',\n",
       " 'day_moment - Early Morning',\n",
       " 'day_moment - Evening',\n",
       " 'day_moment - Late Night',\n",
       " 'day_moment - Morning',\n",
       " 'day_moment - Night',\n",
       " 'day_moment - Noon']"
      ]
     },
     "execution_count": 248,
     "metadata": {},
     "output_type": "execute_result"
    }
   ],
   "source": [
    "X.select_dtypes('float').columns.tolist()"
   ]
  },
  {
   "cell_type": "code",
   "execution_count": 249,
   "metadata": {},
   "outputs": [],
   "source": [
    "#X = X.drop('index',axis=1)\n",
    "#X = X.drop('taxi_out',axis=1)"
   ]
  },
  {
   "cell_type": "code",
   "execution_count": 250,
   "metadata": {},
   "outputs": [],
   "source": [
    "from sklearn.preprocessing import StandardScaler\n",
    "scaler = StandardScaler()\n",
    "num_cols = ['temperature','dewPoint','humidity','windSpeed','windGust','windBearing','cloudCover',\n",
    " 'uvIndex','visibility','approach_speed','distance']\n",
    "X[num_cols] = scaler.fit_transform(X[num_cols])\n",
    "X_bkp = X.copy()"
   ]
  },
  {
   "cell_type": "code",
   "execution_count": 286,
   "metadata": {},
   "outputs": [],
   "source": [
    "X = X_bkp.copy()\n",
    "X = X.drop(['rounded_5m','Lat_runway','Lng_runway','Lat_stand','Lng_stand', 'vel', 'rounded_hour', 'Q','N_prophet', 'N_rw', 'Q_rw'], axis=1)\n",
    "#X['N_Q'] = X['N']*X['Q']"
   ]
  },
  {
   "cell_type": "code",
   "execution_count": 287,
   "metadata": {},
   "outputs": [],
   "source": [
    "from sklearn.model_selection import train_test_split\n",
    "X_train, X_test, y_train, y_test = train_test_split(X, y, test_size=0.33, random_state=42)"
   ]
  },
  {
   "cell_type": "code",
   "execution_count": 288,
   "metadata": {},
   "outputs": [
    {
     "name": "stdout",
     "output_type": "stream",
     "text": [
      "<class 'pandas.core.frame.DataFrame'>\n",
      "Int64Index: 43542 entries, 25593 to 56422\n",
      "Data columns (total 73 columns):\n",
      " #   Column                           Non-Null Count  Dtype  \n",
      "---  ------                           --------------  -----  \n",
      " 0   temperature                      43542 non-null  float64\n",
      " 1   dewPoint                         43542 non-null  float64\n",
      " 2   humidity                         43542 non-null  float64\n",
      " 3   windSpeed                        43542 non-null  float64\n",
      " 4   windGust                         43542 non-null  float64\n",
      " 5   windBearing                      43542 non-null  float64\n",
      " 6   cloudCover                       43542 non-null  float64\n",
      " 7   uvIndex                          43542 non-null  float64\n",
      " 8   visibility                       43542 non-null  float64\n",
      " 9   number_engines                   43542 non-null  float32\n",
      " 10  approach_speed                   43542 non-null  float64\n",
      " 11  wingspan_feet                    43542 non-null  float32\n",
      " 12  length_feet                      43542 non-null  float32\n",
      " 13  tail_height_feet                 43542 non-null  float32\n",
      " 14  wheelbase_feet                   43542 non-null  float32\n",
      " 15  cockpit_to_main_gear_feet        43542 non-null  float32\n",
      " 16  main_gear_width                  43542 non-null  float32\n",
      " 17  max_takeoff_weight               43542 non-null  float32\n",
      " 18  max_ramp_taxi_weight             43542 non-null  float32\n",
      " 19  parking_area_square_feet         43542 non-null  float32\n",
      " 20  distance                         43542 non-null  float64\n",
      " 21  N                                43542 non-null  int64  \n",
      " 22  Taxi_prophet                     43542 non-null  float64\n",
      " 23  Q_prophet                        43542 non-null  float64\n",
      " 24  delay                            43542 non-null  float64\n",
      " 25  taxi_out_mov_avg                 43542 non-null  float64\n",
      " 26  runway - RUNWAY_1                43542 non-null  float64\n",
      " 27  runway - RUNWAY_2                43542 non-null  float64\n",
      " 28  runway - RUNWAY_3                43542 non-null  float64\n",
      " 29  runway - RUNWAY_4                43542 non-null  float64\n",
      " 30  summary - Clear                  43542 non-null  float64\n",
      " 31  summary - Clouds and Wind        43542 non-null  float64\n",
      " 32  summary - Cloudy                 43542 non-null  float64\n",
      " 33  summary - Dangerously Windy      43542 non-null  float64\n",
      " 34  summary - Drizzle                43542 non-null  float64\n",
      " 35  summary - Foggy                  43542 non-null  float64\n",
      " 36  summary - Possible Drizzle       43542 non-null  float64\n",
      " 37  summary - Possible Light Rain    43542 non-null  float64\n",
      " 38  summary - Rain                   43542 non-null  float64\n",
      " 39  summary - Rain and Wind          43542 non-null  float64\n",
      " 40  engine class - Jet               43542 non-null  float64\n",
      " 41  engine class - Turboprop         43542 non-null  float64\n",
      " 42  wingtip_config - no winglets     43542 non-null  float64\n",
      " 43  wingtip_config - winglets        43542 non-null  float64\n",
      " 44  wingtip_config - wingtip fences  43542 non-null  float64\n",
      " 45  number_gear_types_tandem - 1     43542 non-null  float64\n",
      " 46  number_gear_types_tandem - 2     43542 non-null  float64\n",
      " 47  number_gear_types_tandem - 3     43542 non-null  float64\n",
      " 48  flight_day - Friday              43542 non-null  float64\n",
      " 49  flight_day - Monday              43542 non-null  float64\n",
      " 50  flight_day - Saturday            43542 non-null  float64\n",
      " 51  flight_day - Sunday              43542 non-null  float64\n",
      " 52  flight_day - Thursday            43542 non-null  float64\n",
      " 53  flight_day - Tuesday             43542 non-null  float64\n",
      " 54  flight_day - Wednesday           43542 non-null  float64\n",
      " 55  flight_month - April             43542 non-null  float64\n",
      " 56  flight_month - August            43542 non-null  float64\n",
      " 57  flight_month - December          43542 non-null  float64\n",
      " 58  flight_month - February          43542 non-null  float64\n",
      " 59  flight_month - January           43542 non-null  float64\n",
      " 60  flight_month - July              43542 non-null  float64\n",
      " 61  flight_month - June              43542 non-null  float64\n",
      " 62  flight_month - March             43542 non-null  float64\n",
      " 63  flight_month - May               43542 non-null  float64\n",
      " 64  flight_month - November          43542 non-null  float64\n",
      " 65  flight_month - October           43542 non-null  float64\n",
      " 66  flight_month - September         43542 non-null  float64\n",
      " 67  day_moment - Early Morning       43542 non-null  float64\n",
      " 68  day_moment - Evening             43542 non-null  float64\n",
      " 69  day_moment - Late Night          43542 non-null  float64\n",
      " 70  day_moment - Morning             43542 non-null  float64\n",
      " 71  day_moment - Night               43542 non-null  float64\n",
      " 72  day_moment - Noon                43542 non-null  float64\n",
      "dtypes: float32(10), float64(62), int64(1)\n",
      "memory usage: 22.9 MB\n"
     ]
    }
   ],
   "source": [
    "X_train.info()"
   ]
  },
  {
   "cell_type": "code",
   "execution_count": 289,
   "metadata": {},
   "outputs": [
    {
     "data": {
      "text/plain": [
       "0.547048459757129"
      ]
     },
     "execution_count": 289,
     "metadata": {},
     "output_type": "execute_result"
    }
   ],
   "source": [
    "import numpy as np\n",
    "from sklearn.linear_model import LinearRegression\n",
    "\n",
    "reg = LinearRegression().fit(X_train, y_train)\n",
    "reg.score(X_test, y_test)"
   ]
  },
  {
   "cell_type": "code",
   "execution_count": 290,
   "metadata": {},
   "outputs": [
    {
     "name": "stdout",
     "output_type": "stream",
     "text": [
      "temperature 0.14119881870254644\n",
      "dewPoint -0.06365433666829587\n",
      "humidity 0.04349465675831736\n",
      "windSpeed -0.004410831254207548\n",
      "windGust 0.024885626112571196\n",
      "windBearing 0.019989460463950004\n",
      "cloudCover -0.008234891647909026\n",
      "uvIndex 0.011196927438848814\n",
      "visibility -0.01123419053291505\n",
      "number_engines 2.5819332055697966\n",
      "approach_speed 1.1303443240673292\n",
      "wingspan_feet -0.2829823426141019\n",
      "length_feet -0.29789007093845554\n",
      "tail_height_feet 0.4361979953507904\n",
      "wheelbase_feet 0.2270248626173347\n",
      "cockpit_to_main_gear_feet -0.11091946224099467\n",
      "main_gear_width 0.34154929328858136\n",
      "max_takeoff_weight -0.001071622779178244\n",
      "max_ramp_taxi_weight 0.0010349768353056787\n",
      "parking_area_square_feet 0.0015277747196233982\n",
      "distance 0.029425231622610952\n",
      "N 0.26848318867100013\n",
      "Taxi_prophet 0.9271113062069655\n",
      "Q_prophet -0.022612540977862416\n",
      "delay -0.0003893734395781223\n",
      "taxi_out_mov_avg -0.03181844526927849\n",
      "runway - RUNWAY_1 0.005994264956774508\n",
      "runway - RUNWAY_2 -0.02987984434486435\n",
      "runway - RUNWAY_3 -0.03962303227430354\n",
      "runway - RUNWAY_4 0.06350861166241743\n",
      "summary - Clear -0.43356298087411926\n",
      "summary - Clouds and Wind -0.36546980745392593\n",
      "summary - Cloudy -0.41545532272091484\n",
      "summary - Dangerously Windy 0.069522707552467\n",
      "summary - Drizzle -0.3425157619533669\n",
      "summary - Foggy -0.5528720941532721\n",
      "summary - Possible Drizzle -0.4187920173973823\n",
      "summary - Possible Light Rain 1.4091315895110537\n",
      "summary - Rain -0.5040435730376048\n",
      "summary - Rain and Wind 1.554057260527118\n",
      "engine class - Jet 1.2096288610373052\n",
      "engine class - Turboprop -1.2096288610373185\n",
      "wingtip_config - no winglets 0.49377260872703665\n",
      "wingtip_config - winglets -0.2226489744167751\n",
      "wingtip_config - wingtip fences -0.2711236343102566\n",
      "number_gear_types_tandem - 1 -2.5256974679245796\n",
      "number_gear_types_tandem - 2 2.8153906836465055\n",
      "number_gear_types_tandem - 3 -0.28969321572190865\n",
      "flight_day - Friday -0.04889448432273593\n",
      "flight_day - Monday -0.060895795648981746\n",
      "flight_day - Saturday -0.16169890474399956\n",
      "flight_day - Sunday -0.04176016567020887\n",
      "flight_day - Thursday 0.06574276720086886\n",
      "flight_day - Tuesday 0.13356325759179574\n",
      "flight_day - Wednesday 0.11394332559339804\n",
      "flight_month - April 0.0840387787579256\n",
      "flight_month - August -0.23201974474935716\n",
      "flight_month - December 0.17793482879493863\n",
      "flight_month - February 0.19842574125089427\n",
      "flight_month - January 0.3527035233642609\n",
      "flight_month - July -0.4041228296160234\n",
      "flight_month - June -0.18482633611017646\n",
      "flight_month - March 0.12017747628489739\n",
      "flight_month - May -0.19765984377632165\n",
      "flight_month - November 0.3186178417660213\n",
      "flight_month - October -0.030275594100687163\n",
      "flight_month - September -0.20299384186560102\n",
      "day_moment - Early Morning -0.41911140389335116\n",
      "day_moment - Evening -0.0723012966569348\n",
      "day_moment - Late Night 1.1509353832631342\n",
      "day_moment - Morning -0.633873882448161\n",
      "day_moment - Night 0.47936237727542014\n",
      "day_moment - Noon -0.5050111775397128\n"
     ]
    },
    {
     "data": {
      "text/plain": [
       "array([-2.52569747e+00, -1.20962886e+00, -6.33873882e-01, -5.52872094e-01,\n",
       "       -5.05011178e-01, -5.04043573e-01, -4.33562981e-01, -4.19111404e-01,\n",
       "       -4.18792017e-01, -4.15455323e-01, -4.04122830e-01, -3.65469807e-01,\n",
       "       -3.42515762e-01, -2.97890071e-01, -2.89693216e-01, -2.82982343e-01,\n",
       "       -2.71123634e-01, -2.32019745e-01, -2.22648974e-01, -2.02993842e-01,\n",
       "       -1.97659844e-01, -1.84826336e-01, -1.61698905e-01, -1.10919462e-01,\n",
       "       -7.23012967e-02, -6.36543367e-02, -6.08957956e-02, -4.88944843e-02,\n",
       "       -4.17601657e-02, -3.96230323e-02, -3.18184453e-02, -3.02755941e-02,\n",
       "       -2.98798443e-02, -2.26125410e-02, -1.12341905e-02, -8.23489165e-03,\n",
       "       -4.41083125e-03, -1.07162278e-03, -3.89373440e-04,  1.03497684e-03,\n",
       "        1.52777472e-03,  5.99426496e-03,  1.11969274e-02,  1.99894605e-02,\n",
       "        2.48856261e-02,  2.94252316e-02,  4.34946568e-02,  6.35086117e-02,\n",
       "        6.57427672e-02,  6.95227076e-02,  8.40387788e-02,  1.13943326e-01,\n",
       "        1.20177476e-01,  1.33563258e-01,  1.41198819e-01,  1.77934829e-01,\n",
       "        1.98425741e-01,  2.27024863e-01,  2.68483189e-01,  3.18617842e-01,\n",
       "        3.41549293e-01,  3.52703523e-01,  4.36197995e-01,  4.79362377e-01,\n",
       "        4.93772609e-01,  9.27111306e-01,  1.13034432e+00,  1.15093538e+00,\n",
       "        1.20962886e+00,  1.40913159e+00,  1.55405726e+00,  2.58193321e+00,\n",
       "        2.81539068e+00])"
      ]
     },
     "metadata": {},
     "output_type": "display_data"
    }
   ],
   "source": [
    "for i in range(len(reg.coef_)):\n",
    "    print (X.columns[i],reg.coef_[i])\n",
    "display(np.sort(reg.coef_))"
   ]
  },
  {
   "cell_type": "code",
   "execution_count": 291,
   "metadata": {},
   "outputs": [
    {
     "name": "stdout",
     "output_type": "stream",
     "text": [
      "accuracy within 3 minutes error with gbm:  66.05 %\n"
     ]
    }
   ],
   "source": [
    "predictions_gbm = pd.DataFrame(y_test)\n",
    "# Predict\n",
    "predictions_gbm['lower'] = reg.predict(X_test)-3\n",
    "predictions_gbm['prediction'] = reg.predict(X_test)\n",
    "predictions_gbm['upper'] = reg.predict(X_test)+3\n",
    "\n",
    "predictions_gbm['in']= predictions_gbm['taxi_out'].between(predictions_gbm['lower'],predictions_gbm['upper'])\n",
    "\n",
    "print(\"accuracy within 3 minutes error with gbm: \",round(sum(predictions_gbm['in'])/len(predictions_gbm)*100,2),\"%\")"
   ]
  },
  {
   "cell_type": "code",
   "execution_count": 292,
   "metadata": {},
   "outputs": [
    {
     "name": "stdout",
     "output_type": "stream",
     "text": [
      "accuracy within 5 minutes error with gbm:  83.78 %\n"
     ]
    }
   ],
   "source": [
    "predictions_gbm['lower'] = reg.predict(X_test)-5\n",
    "predictions_gbm['prediction'] = reg.predict(X_test)\n",
    "predictions_gbm['upper'] = reg.predict(X_test)+5\n",
    "\n",
    "predictions_gbm['in']= predictions_gbm['taxi_out'].between(predictions_gbm['lower'],predictions_gbm['upper'])\n",
    "\n",
    "print(\"accuracy within 5 minutes error with gbm: \",round(sum(predictions_gbm['in'])/len(predictions_gbm)*100,2),\"%\")"
   ]
  },
  {
   "cell_type": "code",
   "execution_count": 293,
   "metadata": {},
   "outputs": [
    {
     "data": {
      "image/png": "[encoded data removed]",
      "text/plain": [
       "<Figure size 432x288 with 1 Axes>"
      ]
     },
     "metadata": {
      "needs_background": "light"
     },
     "output_type": "display_data"
    }
   ],
   "source": [
    "fig, ax = plt.subplots()\n",
    "sns.ecdfplot(abs(merged_df['taxi_out_mov_avg'] - y), ax=ax, label='Moving average')\n",
    "sns.ecdfplot(abs(reg.predict(X_test) - y_test), color='orange', ax=ax, label='Model')\n",
    "plt.legend()\n",
    "plt.xlim(0,30)\n",
    "plt.show()"
   ]
  },
  {
   "cell_type": "code",
   "execution_count": 269,
   "metadata": {},
   "outputs": [
    {
     "data": {
      "text/plain": [
       "0.527375258993507"
      ]
     },
     "execution_count": 269,
     "metadata": {},
     "output_type": "execute_result"
    }
   ],
   "source": [
    "from sklearn.ensemble import GradientBoostingRegressor\n",
    "xgb = GradientBoostingRegressor()\n",
    "xgb.fit(X_train, y_train)\n",
    "xgb.score(X_test, y_test)"
   ]
  },
  {
   "cell_type": "code",
   "execution_count": 270,
   "metadata": {},
   "outputs": [
    {
     "data": {
      "image/png": "[encoded data removed]",
      "text/plain": [
       "<Figure size 432x288 with 1 Axes>"
      ]
     },
     "metadata": {
      "needs_background": "light"
     },
     "output_type": "display_data"
    }
   ],
   "source": [
    "fig, ax = plt.subplots()\n",
    "sns.ecdfplot(abs(merged_df['taxi_out_mov_avg'] - y), ax=ax, label='Moving average')\n",
    "sns.ecdfplot(abs(xgb.predict(X_test) - y_test), color='orange', ax=ax, label='Model')\n",
    "plt.legend()\n",
    "plt.xlim(0,30)\n",
    "plt.show()"
   ]
  },
  {
   "cell_type": "code",
   "execution_count": null,
   "metadata": {},
   "outputs": [],
   "source": [
    "fig, ax = plt.subplots()\n",
    "sns.ecdfplot(abs(merged_df['taxi_out_mov_avg'] - y), ax=ax, label='Moving average')\n",
    "sns.ecdfplot(abs(xgb.predict(X_train) - y_train), color='orange', ax=ax, label='Model')\n",
    "plt.legend()\n",
    "plt.xlim(0,10)\n",
    "plt.xlabel('Error between the actual taxing time and predicted in minutes')\n",
    "plt.ylabel('Empirical cumulative distribution function')\n",
    "plt.show()"
   ]
  },
  {
   "cell_type": "code",
   "execution_count": null,
   "metadata": {},
   "outputs": [],
   "source": [
    "np.percentile(abs(merged_df['taxi_out_mov_avg'] - y), 95)"
   ]
  },
  {
   "cell_type": "code",
   "execution_count": null,
   "metadata": {},
   "outputs": [],
   "source": [
    "np.percentile(abs(xgb.predict(X_train) - y_train), 95)"
   ]
  },
  {
   "cell_type": "code",
   "execution_count": null,
   "metadata": {},
   "outputs": [],
   "source": [
    "from sklearn.linear_model import SGDRegressor\n",
    "regr = SGDRegressor(max_iter=1000, tol=1e-3)\n",
    "regr.fit(X_train, y_train)\n"
   ]
  },
  {
   "cell_type": "code",
   "execution_count": null,
   "metadata": {},
   "outputs": [],
   "source": [
    "regr.score(X_test, y_test)"
   ]
  },
  {
   "cell_type": "code",
   "execution_count": null,
   "metadata": {},
   "outputs": [],
   "source": [
    "\n",
    "from sklearn.datasets import load_diabetes\n",
    "from sklearn.ensemble import GradientBoostingRegressor\n",
    "from sklearn.ensemble import RandomForestRegressor\n",
    "from sklearn.linear_model import LinearRegression\n",
    "from sklearn.ensemble import VotingRegressor\n",
    "\n",
    "# Loading some example data\n",
    "\n",
    "# Training classifiers\n",
    "reg1 = GradientBoostingRegressor(random_state=1)\n",
    "reg2 = RandomForestRegressor(random_state=1)\n",
    "reg3 = LinearRegression()\n",
    "ereg = VotingRegressor(estimators=[('gb', reg1), ('rf', reg2), ('lr', reg3)])\n",
    "ereg = ereg.fit(X_train, y_train)\n",
    "\n"
   ]
  },
  {
   "cell_type": "code",
   "execution_count": null,
   "metadata": {},
   "outputs": [],
   "source": [
    "ereg.score(X_test, y_test)"
   ]
  },
  {
   "cell_type": "code",
   "execution_count": 279,
   "metadata": {},
   "outputs": [
    {
     "name": "stdout",
     "output_type": "stream",
     "text": [
      "accuracy within 3 minutes error with gbm:  64.74 %\n"
     ]
    }
   ],
   "source": [
    "predictions_gbm = pd.DataFrame(y_test)\n",
    "# Predict\n",
    "predictions_gbm['lower'] = xgb.predict(X_test)-3\n",
    "predictions_gbm['prediction'] = xgb.predict(X_test)\n",
    "predictions_gbm['upper'] = xgb.predict(X_test)+3\n",
    "\n",
    "predictions_gbm['in']= predictions_gbm['taxi_out'].between(predictions_gbm['lower'],predictions_gbm['upper'])\n",
    "\n",
    "print(\"accuracy within 3 minutes error with gbm: \",round(sum(predictions_gbm['in'])/len(predictions_gbm)*100,2),\"%\")"
   ]
  },
  {
   "cell_type": "code",
   "execution_count": null,
   "metadata": {},
   "outputs": [],
   "source": [
    "predictions_gbm = pd.DataFrame(y_test)\n",
    "# Predict\n",
    "predictions_gbm['lower'] = ereg.predict(X_test)-5\n",
    "predictions_gbm['prediction'] = ereg.predict(X_test)\n",
    "predictions_gbm['upper'] = ereg.predict(X_test)+5\n",
    "\n",
    "predictions_gbm['in']= predictions_gbm['taxi_out'].between(predictions_gbm['lower'],predictions_gbm['upper'])\n",
    "\n",
    "print(\"accuracy within 5 minutes error with gbm: \",round(sum(predictions_gbm['in'])/len(predictions_gbm)*100,2),\"%\")"
   ]
  },
  {
   "cell_type": "code",
   "execution_count": null,
   "metadata": {},
   "outputs": [],
   "source": [
    "fig, ax = plt.subplots()\n",
    "sns.ecdfplot(abs(merged_df['taxi_out_mov_avg'] - y), ax=ax, label='Moving average')\n",
    "sns.ecdfplot(abs(ereg.predict(X_test) - y_test), color='orange', ax=ax, label='Model')\n",
    "plt.legend()\n",
    "plt.xlim(0,30)\n",
    "plt.show()"
   ]
  },
  {
   "cell_type": "code",
   "execution_count": null,
   "metadata": {},
   "outputs": [],
   "source": [
    "np.percentile(abs(ereg.predict(X_test) - y_test), 95)"
   ]
  },
  {
   "cell_type": "code",
   "execution_count": null,
   "metadata": {},
   "outputs": [],
   "source": [
    "np.percentile(abs(merged_df['taxi_out_mov_avg'] - y), 95)"
   ]
  },
  {
   "cell_type": "code",
   "execution_count": null,
   "metadata": {},
   "outputs": [],
   "source": [
    "np.percentile(abs(xgb.predict(X_test) - y_test), 95)"
   ]
  },
  {
   "cell_type": "code",
   "execution_count": null,
   "metadata": {},
   "outputs": [],
   "source": [
    "pd.read_excel('../../Resources/test_set_weather_data.xlsx')"
   ]
  },
  {
   "cell_type": "code",
   "execution_count": null,
   "metadata": {},
   "outputs": [],
   "source": [
    "df_weather"
   ]
  },
  {
   "cell_type": "code",
   "execution_count": null,
   "metadata": {},
   "outputs": [],
   "source": [
    "dataset_cleaning = importlib.import_module(\"utils.dataset_cleaning\")\n",
    "test_airp = dataset_cleaning.clean_airport('../../Resources/test_set_airport_data.xlsx', 'test')"
   ]
  },
  {
   "cell_type": "code",
   "execution_count": null,
   "metadata": {},
   "outputs": [],
   "source": [
    "dataset_cleaning = importlib.import_module(\"utils.dataset_cleaning\")\n"
   ]
  },
  {
   "cell_type": "code",
   "execution_count": null,
   "metadata": {},
   "outputs": [],
   "source": [
    "test_airp.columns = df_airport.columns"
   ]
  },
  {
   "cell_type": "code",
   "execution_count": null,
   "metadata": {},
   "outputs": [],
   "source": [
    "dataset_cleaning.clean_airport()"
   ]
  },
  {
   "cell_type": "code",
   "execution_count": null,
   "metadata": {},
   "outputs": [],
   "source": [
    "df_weather"
   ]
  },
  {
   "cell_type": "code",
   "execution_count": null,
   "metadata": {},
   "outputs": [],
   "source": [
    "predictions_gbm = pd.DataFrame(y_test)\n",
    "# Predict\n",
    "predictions_gbm['lower'] = X['taxi_out_mov_avg']-3\n",
    "predictions_gbm['prediction'] = X['taxi_out_mov_avg']\n",
    "predictions_gbm['upper'] = X['taxi_out_mov_avg']+3\n",
    "\n",
    "predictions_gbm['in']= predictions_gbm['taxi_out'].between(predictions_gbm['lower'],predictions_gbm['upper'])\n",
    "\n",
    "print(\"accuracy within 3 minutes error with gbm: \",round(sum(predictions_gbm['in'])/len(predictions_gbm)*100,2),\"%\")"
   ]
  },
  {
   "cell_type": "code",
   "execution_count": null,
   "metadata": {},
   "outputs": [],
   "source": [
    "#X_test.predictions_gbm = pd.DataFrame(y_test)\n",
    "# Predict\n",
    "predictions_gbm['lower'] = X['taxi_out_mov_avg']-5\n",
    "predictions_gbm['prediction'] = X['taxi_out_mov_avg']\n",
    "predictions_gbm['upper'] = X['taxi_out_mov_avg']+5\n",
    "\n",
    "predictions_gbm['in']= predictions_gbm['taxi_out'].between(predictions_gbm['lower'],predictions_gbm['upper'])\n",
    "\n",
    "print(\"accuracy within 5 minutes error with gbm: \",round(sum(predictions_gbm['in'])/len(predictions_gbm)*100,2),\"%\")"
   ]
  },
  {
   "cell_type": "code",
   "execution_count": null,
   "metadata": {},
   "outputs": [],
   "source": [
    "predictions_gbm['lower'] = reg.predict(X_test)-3\n",
    "predictions_gbm['prediction'] = reg.predict(X_test)\n",
    "predictions_gbm['upper'] = reg.predict(X_test)+3\n",
    "\n",
    "predictions_gbm['in']= predictions_gbm['taxi_out'].between(predictions_gbm['lower'],predictions_gbm['upper'])\n",
    "\n",
    "print(\"accuracy within 3 minutes error with gbm: \",round(sum(predictions_gbm['in'])/len(predictions_gbm)*100,2),\"%\")"
   ]
  },
  {
   "cell_type": "code",
   "execution_count": null,
   "metadata": {},
   "outputs": [],
   "source": [
    "predictions_gbm['lower'] = reg.predict(X_test)-5\n",
    "predictions_gbm['prediction'] = reg.predict(X_test)\n",
    "predictions_gbm['upper'] = reg.predict(X_test)+5\n",
    "\n",
    "predictions_gbm['in']= predictions_gbm['taxi_out'].between(predictions_gbm['lower'],predictions_gbm['upper'])\n",
    "\n",
    "print(\"accuracy within 5 minutes error with gbm: \",round(sum(predictions_gbm['in'])/len(predictions_gbm)*100,2),\"%\")"
   ]
  },
  {
   "cell_type": "code",
   "execution_count": null,
   "metadata": {},
   "outputs": [],
   "source": [
    "import pickle"
   ]
  },
  {
   "cell_type": "code",
   "execution_count": null,
   "metadata": {},
   "outputs": [],
   "source": [
    "pickle.save()"
   ]
  }
 ],
 "metadata": {
  "kernelspec": {
   "display_name": "Python 3",
   "language": "python",
   "name": "python3"
  },
  "language_info": {
   "codemirror_mode": {
    "name": "ipython",
    "version": 3
   },
   "file_extension": ".py",
   "mimetype": "text/x-python",
   "name": "python",
   "nbconvert_exporter": "python",
   "pygments_lexer": "ipython3",
   "version": "3.8.5"
  }
 },
 "nbformat": 4,
 "nbformat_minor": 2
}
